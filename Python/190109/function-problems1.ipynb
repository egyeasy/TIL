{
 "cells": [
  {
   "cell_type": "markdown",
   "metadata": {},
   "source": [
    "## Function-Problems1"
   ]
  },
  {
   "cell_type": "markdown",
   "metadata": {},
   "source": [
    "### 문제1\n",
    "\n",
    "> 다음 리스트의 합계, 평균, 분산을 구하는 함수를 만드세요\n",
    "\n",
    "> grades = [100, 100, 90, 40, 80, 100, 85, 70, 90, 65, 90, 85, 50.5, 62.5]\n",
    "\n",
    "\n",
    "\n"
   ]
  },
  {
   "cell_type": "code",
   "execution_count": 13,
   "metadata": {},
   "outputs": [
    {
     "name": "stdout",
     "output_type": "stream",
     "text": [
      "1108.0\n",
      "79.14285714285714\n",
      "331.51530612245006\n"
     ]
    }
   ],
   "source": [
    "#여기에 코드를 작성하세요\n",
    "grades = [100, 100, 90, 40, 80, 100, 85, 70, 90, 65, 90, 85, 50.5, 62.5]\n",
    "\n",
    "#합계\n",
    "def my_sum(grade_list):\n",
    "    summ = 0\n",
    "    for grade in grade_list:\n",
    "        summ += grade\n",
    "    return summ\n",
    "\n",
    "\n",
    "#평균\n",
    "def my_avg(grade_list):\n",
    "    summ = my_sum(grade_list)\n",
    "    return summ/len(grade_list)\n",
    "\n",
    "\n",
    "#분산\n",
    "def my_var(grade_list):\n",
    "    square_list = []\n",
    "    for grade in grade_list:\n",
    "        square_list.append(grade**2)\n",
    "    avg_square = my_avg(square_list)\n",
    "    square_avg = (my_avg(grade_list))**2\n",
    "    return avg_square - square_avg\n",
    "\n",
    "print(my_sum(grades))\n",
    "print(my_avg(grades))\n",
    "print(my_var(grades))\n"
   ]
  },
  {
   "cell_type": "code",
   "execution_count": 25,
   "metadata": {},
   "outputs": [
    {
     "data": {
      "text/plain": [
       "331.515306122449"
      ]
     },
     "execution_count": 25,
     "metadata": {},
     "output_type": "execute_result"
    }
   ],
   "source": [
    "def grades_variance(scores):\n",
    "    average = my_avg(scores)\n",
    "    variance = 0\n",
    "    for score in scores:\n",
    "        variance += (average - score) ** 2\n",
    "    return variance / len(scores)\n",
    "grades_variance(grades)"
   ]
  },
  {
   "cell_type": "markdown",
   "metadata": {},
   "source": [
    "### 문제2\n",
    "\n",
    "\n",
    "> 함수는 다음과 같은 4가지의 경우로 나눠서 생각할 수 있습니다.\n",
    "- 입력/리턴값이 모두 있는 경우\n",
    "- 입력값만 있는 경우\n",
    "- 리턴값만 있는 경우\n",
    "- 입력/리턴값이 모두 없는 경우\n",
    "\n",
    ">위의 4가지 경우의 예시를 각각 작성해보세요."
   ]
  },
  {
   "cell_type": "code",
   "execution_count": 16,
   "metadata": {},
   "outputs": [],
   "source": [
    "#여기에 코드를 작성하세요\n",
    "\n",
    "# 1: \n",
    "def pop(list_stack):\n",
    "    item = list_stack[-1]\n",
    "    list_stack = list_stack[:-1]\n",
    "    return item\n",
    "\n",
    "\n",
    "# 2: \n",
    "def push(list_stack, a):\n",
    "    list_stack.append(a)\n",
    "\n",
    "\n",
    "# 3: \n",
    "def say_hi():\n",
    "    return \"hi\"\n",
    "\n",
    "\n",
    "\n",
    "# 4:\n",
    "def do_nothing():\n",
    "    print(\"no\")\n"
   ]
  },
  {
   "cell_type": "code",
   "execution_count": 22,
   "metadata": {},
   "outputs": [
    {
     "name": "stdout",
     "output_type": "stream",
     "text": [
      "[1, 2]\n",
      "3\n",
      "[1, 2, 3]\n"
     ]
    }
   ],
   "source": [
    "a = [1, 2, 3]\n",
    "print(a[:-1])\n",
    "print(pop(a))\n",
    "print(a)\n",
    "# push([1, 2, 3], 4)\n",
    "# print(say_hi())\n",
    "# print(do_nothing())"
   ]
  },
  {
   "cell_type": "markdown",
   "metadata": {},
   "source": [
    "### 문제3\n",
    "\n",
    ">A 씨는 게시판 프로그램을 작성하고 있습니다. 게시물의 총 건수와 페이지에 보여줄 게시물 수를 입력으로 주었을 때  총 페이지수를 출력하는 프로그램이 필요합니다. A씨를 위한 게시판 페이징을 해주세요.\n",
    "\n",
    "> 페이징: 게시판 페이지수를 보여주는 것 \n",
    "- 총 페이지수 = 총 건수 / 한 페이지당 보여줄 건수 + 1"
   ]
  },
  {
   "cell_type": "code",
   "execution_count": 29,
   "metadata": {},
   "outputs": [
    {
     "data": {
      "text/plain": [
       "6"
      ]
     },
     "execution_count": 29,
     "metadata": {},
     "output_type": "execute_result"
    }
   ],
   "source": [
    "# 여기에 코드를 작성하세요\n",
    "def paging(all_count, per_page):\n",
    "    if all_count % per_page == 0:\n",
    "        return all_count // per_page\n",
    "    else:\n",
    "        return all_count//per_page + 1\n",
    "paging(55, 10)"
   ]
  },
  {
   "cell_type": "markdown",
   "metadata": {},
   "source": [
    "### 문제4\n",
    "\n",
    ">다음 중 가장 높은 점수가 출력되도록 만들어주세요.\n",
    "\n",
    "> korean, english, mathematics, science = 100, 86, 81, 91"
   ]
  },
  {
   "cell_type": "code",
   "execution_count": 4,
   "metadata": {},
   "outputs": [
    {
     "data": {
      "text/plain": [
       "100"
      ]
     },
     "execution_count": 4,
     "metadata": {},
     "output_type": "execute_result"
    }
   ],
   "source": [
    "# 여기에 코드를 작성하세요\n",
    "korean, english, mathematics, science = 100, 86, 81, 91\n",
    "grade_list = [korean, english, mathematics, science]\n",
    "\n",
    "def my_max(*args):\n",
    "    grade_list = list(args)\n",
    "    maxx = 0\n",
    "    for grade in grade_list:\n",
    "        if maxx < grade:\n",
    "            maxx = grade\n",
    "    return maxx\n",
    "\n",
    "my_max(korean, english, mathematics, science)"
   ]
  },
  {
   "cell_type": "markdown",
   "metadata": {},
   "source": [
    "### 문제5\n",
    "\n",
    ">길이가 n이고, \"수박수박수박수...\"와 같은 패턴을 유지하는 문자열을 리턴하는 함수, solution을 완성하세요. \n",
    "\n",
    "> 예를들어 n이 4이면 \"수박수박\"을 리턴하고 3이라면 \"수박수\"를 리턴하면 됩니다."
   ]
  },
  {
   "cell_type": "code",
   "execution_count": 50,
   "metadata": {},
   "outputs": [
    {
     "data": {
      "text/plain": [
       "'수박수박수박'"
      ]
     },
     "execution_count": 50,
     "metadata": {},
     "output_type": "execute_result"
    }
   ],
   "source": [
    "#여기에 코드를 작성하세요.\n",
    "def solution(n):\n",
    "    word = \"수박\"\n",
    "    if n%2 == 0:\n",
    "        return word*(n//2)\n",
    "    else:\n",
    "        return word*(n//2)+word[0]\n",
    "    \n",
    "solution(6)\n",
    "    \n"
   ]
  },
  {
   "cell_type": "code",
   "execution_count": 52,
   "metadata": {},
   "outputs": [
    {
     "name": "stdout",
     "output_type": "stream",
     "text": [
      "수박수박수\n",
      "수박수박수박\n"
     ]
    }
   ],
   "source": [
    "# 강사님 답안\n",
    "def solution(n):\n",
    "    answer = '수박' * n\n",
    "    return answer[:n]\n",
    "print(solution(5))\n",
    "print(solution(6))"
   ]
  },
  {
   "cell_type": "code",
   "execution_count": 51,
   "metadata": {},
   "outputs": [
    {
     "name": "stdout",
     "output_type": "stream",
     "text": [
      "hei wjfiew wo\n",
      "3\n"
     ]
    }
   ],
   "source": []
  },
  {
   "cell_type": "code",
   "execution_count": null,
   "metadata": {},
   "outputs": [],
   "source": []
  }
 ],
 "metadata": {
  "kernelspec": {
   "display_name": "Python 3",
   "language": "python",
   "name": "python3"
  },
  "language_info": {
   "codemirror_mode": {
    "name": "ipython",
    "version": 3
   },
   "file_extension": ".py",
   "mimetype": "text/x-python",
   "name": "python",
   "nbconvert_exporter": "python",
   "pygments_lexer": "ipython3",
   "version": "3.7.1"
  }
 },
 "nbformat": 4,
 "nbformat_minor": 2
}
