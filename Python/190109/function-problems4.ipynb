{
 "cells": [
  {
   "cell_type": "markdown",
   "metadata": {},
   "source": [
    "## Function-Problems4"
   ]
  },
  {
   "cell_type": "markdown",
   "metadata": {},
   "source": [
    "### 문제1\n",
    "\n",
    ">OOO 모바일은 개인정보 보호를 위해 고지서를 보낼 때 고객들의 전화번호의 일부를 가립니다. 전화번호가 문자열 phone_number로 주어졌을 때, 전화번호의 뒷 4자리를 제외한 나머지 숫자를 전부 *으로 가린 문자열을 리턴하는 함수, solution을 완성해주세요."
   ]
  },
  {
   "cell_type": "code",
   "execution_count": 1,
   "metadata": {},
   "outputs": [
    {
     "data": {
      "text/plain": [
       "'*******4324'"
      ]
     },
     "execution_count": 1,
     "metadata": {},
     "output_type": "execute_result"
    }
   ],
   "source": [
    "# 여기에 코드를 작성해주세요\n",
    "def solution(num):\n",
    "    new_num = \"*\"*len(num[:-4])+num[-4:]\n",
    "    return new_num\n",
    "\n",
    "solution('01026554324')"
   ]
  },
  {
   "cell_type": "code",
   "execution_count": 4,
   "metadata": {},
   "outputs": [
    {
     "name": "stdout",
     "output_type": "stream",
     "text": [
      "*******3443\n",
      "*******0192\n"
     ]
    }
   ],
   "source": [
    "def solution(num):\n",
    "    result = ''\n",
    "    for idx, i in enumerate(num):\n",
    "        if i == '-':\n",
    "            continue\n",
    "        elif idx < len(num) - 4:\n",
    "            result += '*'\n",
    "        else:\n",
    "            result += i\n",
    "    return result\n",
    "print(solution('010-2356-3443'))\n",
    "print(solution('01023840192'))"
   ]
  },
  {
   "cell_type": "markdown",
   "metadata": {},
   "source": [
    "### 문제2\n",
    "\n",
    ">문자열이 주어지면, 각 문자(대소문자 구분)를 한번씩 반복하여 문자열을 반환하는 함수를 작성하세요.\n",
    "\n",
    ">예시\n",
    "- double_char(\"String\") ==> \"SSttrriinngg\"\n",
    "- double_char(\"Hello World\") ==> \"HHeelllloo  WWoorrlldd\"\n",
    "- double_char(\"1234!_ \") ==> \"11223344!!__  \""
   ]
  },
  {
   "cell_type": "code",
   "execution_count": 6,
   "metadata": {},
   "outputs": [
    {
     "name": "stdout",
     "output_type": "stream",
     "text": [
      "PPyytthhoonn\n"
     ]
    }
   ],
   "source": [
    " # 여기에 코드를 작성하세요.\n",
    "def solution(word):\n",
    "    new_word = \"\"\n",
    "    for s in word:\n",
    "        new_word += s * 2\n",
    "    return new_word\n",
    "\n",
    "print(solution('Python'))"
   ]
  },
  {
   "cell_type": "code",
   "execution_count": 8,
   "metadata": {},
   "outputs": [
    {
     "name": "stdout",
     "output_type": "stream",
     "text": [
      "PPyytthhoonn\n"
     ]
    }
   ],
   "source": [
    "def solution2(word):\n",
    "    return ''.join(s*2 for s in word)\n",
    "\n",
    "print(solution2('Python'))"
   ]
  },
  {
   "cell_type": "markdown",
   "metadata": {},
   "source": [
    "### 문제3\n",
    "\n",
    ">크기를 가지고 1과 0을 번갈아 나타내는 stringy 함수를 작성하고자 합니다. \n",
    "\n",
    "> 조건 및 출력예시\n",
    "- 문자열은 반드시 1부터 시작해야 합니다. \n",
    "- 스트링의 크기는 항상 양수이며 정수만 사용합니다.\n",
    "- 스트링의 크기(size)가 6이면 '101010'을 반환합니다.\n",
    "- 스트링의 크기(size)가 4이면 '1010'을 반환합니다. \n",
    "- 스트링의 크기(size)가 12이면 '101010101010'을 반환합니다. "
   ]
  },
  {
   "cell_type": "code",
   "execution_count": 5,
   "metadata": {},
   "outputs": [
    {
     "data": {
      "text/plain": [
       "'1010101'"
      ]
     },
     "execution_count": 5,
     "metadata": {},
     "output_type": "execute_result"
    }
   ],
   "source": [
    "# 여기에 코드를 작성하세요\n",
    "def stringy(word):\n",
    "    repeat = '10'\n",
    "    if word[0] != '1':\n",
    "        return False\n",
    "    else:\n",
    "        repeat = repeat * len(word)\n",
    "        return repeat[:len(word)]\n",
    "\n",
    "stringy('1924173')"
   ]
  },
  {
   "cell_type": "code",
   "execution_count": 6,
   "metadata": {},
   "outputs": [
    {
     "name": "stdout",
     "output_type": "stream",
     "text": [
      "2\n",
      "2\n"
     ]
    }
   ],
   "source": [
    "print(int((5/2)))\n",
    "print(5//2)"
   ]
  },
  {
   "cell_type": "code",
   "execution_count": 25,
   "metadata": {},
   "outputs": [],
   "source": [
    "# 강사님\n",
    "def stringy1(size):\n",
    "    return '10' * int((size / 2)) + '1' * (size % 2)"
   ]
  },
  {
   "cell_type": "code",
   "execution_count": 8,
   "metadata": {},
   "outputs": [
    {
     "name": "stdout",
     "output_type": "stream",
     "text": [
      "101010101\n"
     ]
    }
   ],
   "source": [
    "def stringy2(size):\n",
    "    return ''.join([str(i % 2) for i in range(1, size + 1)])\n",
    "print(stringy2(9))"
   ]
  },
  {
   "cell_type": "markdown",
   "metadata": {},
   "source": [
    "### 문제4\n",
    "\n",
    "> 당신이 일하는 회사는 지불 시스템을 개발하는 계약을 맺었습니다. 당신의 임무는 금액(실수)을 달러와 센트의 문자열 서식으로 반환하는 함수를 개발하는 일입니다. 0이 누락 경우에 뒤에 0을 추가해야 합니다.\n",
    "\n",
    ">예시\n",
    "- 3 -> $3.00 \n"
   ]
  },
  {
   "cell_type": "code",
   "execution_count": 13,
   "metadata": {},
   "outputs": [
    {
     "name": "stdout",
     "output_type": "stream",
     "text": [
      "<class 'str'>\n",
      "$3.00\n",
      "<class 'str'>\n",
      "$3.54\n",
      "<class 'str'>\n",
      "$3.60\n"
     ]
    }
   ],
   "source": [
    "#여기에 코드를 작성하세요.\n",
    "def money(num):\n",
    "    new_num = \"{:.2f}\".format(num)\n",
    "    print(type(new_num))\n",
    "    return \"$\" + str(new_num)\n",
    "print(money(3))\n",
    "print(money(3.535))\n",
    "print(money(3.6))"
   ]
  },
  {
   "cell_type": "code",
   "execution_count": 34,
   "metadata": {},
   "outputs": [
    {
     "name": "stdout",
     "output_type": "stream",
     "text": [
      "5.00\n"
     ]
    }
   ],
   "source": [
    "def format_money(amount):\n",
    "    return f'{amount:0.2f}'\n",
    "\n",
    "print(format_money(5))"
   ]
  },
  {
   "cell_type": "markdown",
   "metadata": {},
   "source": [
    "### 문제5\n",
    "\n",
    "> 1세기는 1년~100년까지, 2세기는 101년에서 200년까지를 포함합니다. 주어진 연도 값에서, 세기를 반환하는 함수를 작성하세요. "
   ]
  },
  {
   "cell_type": "code",
   "execution_count": 32,
   "metadata": {},
   "outputs": [
    {
     "name": "stdout",
     "output_type": "stream",
     "text": [
      "1년은 1세기입니다.\n",
      "101년은 2세기입니다.\n",
      "200년은 2세기입니다.\n",
      "-50년은 0세기입니다.\n",
      "2019년은 21세기입니다.\n"
     ]
    }
   ],
   "source": [
    "# 여기에 코드를 작성하세요\n",
    "def segi(year):\n",
    "    return \"{}년은 {}세기입니다.\".format(year, (year+99)//100) # (year-1) // 100 + 1 도 가능\n",
    "print(segi(1))\n",
    "print(segi(101))\n",
    "print(segi(200))\n",
    "print(segi(-50))\n",
    "print(segi(2019))"
   ]
  },
  {
   "cell_type": "code",
   "execution_count": null,
   "metadata": {},
   "outputs": [],
   "source": []
  }
 ],
 "metadata": {
  "kernelspec": {
   "display_name": "Python 3",
   "language": "python",
   "name": "python3"
  },
  "language_info": {
   "codemirror_mode": {
    "name": "ipython",
    "version": 3
   },
   "file_extension": ".py",
   "mimetype": "text/x-python",
   "name": "python",
   "nbconvert_exporter": "python",
   "pygments_lexer": "ipython3",
   "version": "3.7.1"
  }
 },
 "nbformat": 4,
 "nbformat_minor": 2
}
