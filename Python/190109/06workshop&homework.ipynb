{
 "cells": [
  {
   "cell_type": "markdown",
   "metadata": {},
   "source": [
    "# Workshop\n",
    "### 이분법"
   ]
  },
  {
   "cell_type": "code",
   "execution_count": 19,
   "metadata": {},
   "outputs": [
    {
     "name": "stdout",
     "output_type": "stream",
     "text": [
      "1.414213562373095\n",
      "1.7320508075688772\n"
     ]
    }
   ],
   "source": [
    "def bisect(num):\n",
    "    large = num\n",
    "    small = 1\n",
    "    origin = num\n",
    "    for i in range(100):\n",
    "        stan = (small+large)/2\n",
    "        if stan**2 > origin:\n",
    "            large = stan\n",
    "            \n",
    "        elif stan**2 < origin:\n",
    "             small = stan\n",
    "    \n",
    "    return stan\n",
    "\n",
    "print(bisect(2))\n",
    "print(bisect(3))"
   ]
  },
  {
   "cell_type": "code",
   "execution_count": 3,
   "metadata": {},
   "outputs": [
    {
     "data": {
      "text/plain": [
       "1.4141845703125"
      ]
     },
     "execution_count": 3,
     "metadata": {},
     "output_type": "execute_result"
    }
   ],
   "source": [
    "# 강사님 코드\n",
    "def my_sqrt(n):\n",
    "    x, y = 0, n\n",
    "    answer = 0\n",
    "    \n",
    "    while abs(answer ** 2 - n) > 0.0001:\n",
    "        answer = (x + y) / 2\n",
    "        if answer ** 2 < n:\n",
    "            x = answer\n",
    "        else:\n",
    "            y = answer\n",
    "    \n",
    "    return answer\n",
    "\n",
    "my_sqrt(2)"
   ]
  },
  {
   "cell_type": "code",
   "execution_count": 5,
   "metadata": {},
   "outputs": [
    {
     "data": {
      "text/plain": [
       "1.41421"
      ]
     },
     "execution_count": 5,
     "metadata": {},
     "output_type": "execute_result"
    }
   ],
   "source": [
    "def my_sqrt(n):\n",
    "    minimum, maximum = 0, 1\n",
    "    while 1:\n",
    "        if n == maximum ** 2:\n",
    "            return maximum\n",
    "        elif minimum ** 2 < n < maximum ** 2:\n",
    "            guess = (minimum + maximum) / 2\n",
    "            \n",
    "            if round(minimum, 5) == round(maximum, 5):\n",
    "                return round(guess, 5)\n",
    "            \n",
    "            elif guess ** 2 > n:\n",
    "                maximum = guess\n",
    "            else:\n",
    "                minimum = guess\n",
    "        else:\n",
    "            minimum += 1\n",
    "            maximum += 1\n",
    "            \n",
    "my_sqrt(2)"
   ]
  },
  {
   "cell_type": "markdown",
   "metadata": {},
   "source": [
    "# Homework\n",
    "### 1. 내장함수"
   ]
  },
  {
   "cell_type": "markdown",
   "metadata": {},
   "source": [
    "`max()`, `min()`, `list()`, `str()`, `range()`"
   ]
  },
  {
   "cell_type": "markdown",
   "metadata": {},
   "source": [
    "### 2. 틀린 것은?"
   ]
  },
  {
   "cell_type": "markdown",
   "metadata": {},
   "source": [
    "(1) -> return a,b를 했을 때 (a, b)라는 튜플로 반환이 가능하다."
   ]
  },
  {
   "cell_type": "markdown",
   "metadata": {},
   "source": [
    "### 3. my_mul"
   ]
  },
  {
   "cell_type": "code",
   "execution_count": 21,
   "metadata": {},
   "outputs": [
    {
     "name": "stdout",
     "output_type": "stream",
     "text": [
      "6\n",
      "15\n"
     ]
    }
   ],
   "source": [
    "def my_mul(a, b=1):\n",
    "    return a*b\n",
    "\n",
    "print(my_mul(6))\n",
    "print(my_mul(3, 5))"
   ]
  },
  {
   "cell_type": "code",
   "execution_count": null,
   "metadata": {},
   "outputs": [],
   "source": []
  }
 ],
 "metadata": {
  "kernelspec": {
   "display_name": "Python 3",
   "language": "python",
   "name": "python3"
  },
  "language_info": {
   "codemirror_mode": {
    "name": "ipython",
    "version": 3
   },
   "file_extension": ".py",
   "mimetype": "text/x-python",
   "name": "python",
   "nbconvert_exporter": "python",
   "pygments_lexer": "ipython3",
   "version": "3.6.7"
  }
 },
 "nbformat": 4,
 "nbformat_minor": 2
}
