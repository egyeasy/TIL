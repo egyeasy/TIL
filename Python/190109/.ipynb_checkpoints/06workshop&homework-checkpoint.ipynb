{
 "cells": [
  {
   "cell_type": "markdown",
   "metadata": {},
   "source": [
    "# Workshop\n",
    "### 이분법"
   ]
  },
  {
   "cell_type": "code",
   "execution_count": 19,
   "metadata": {},
   "outputs": [
    {
     "name": "stdout",
     "output_type": "stream",
     "text": [
      "1.414213562373095\n",
      "1.7320508075688772\n"
     ]
    }
   ],
   "source": [
    "def bisect(num):\n",
    "    large = num\n",
    "    small = 1\n",
    "    origin = num\n",
    "    for i in range(100):\n",
    "        stan = (small+large)/2\n",
    "        if stan**2 > origin:\n",
    "            large = stan\n",
    "            \n",
    "        elif stan**2 < origin:\n",
    "             small = stan\n",
    "    \n",
    "    return stan\n",
    "\n",
    "print(bisect(2))\n",
    "print(bisect(3))"
   ]
  },
  {
   "cell_type": "markdown",
   "metadata": {},
   "source": [
    "# Homework\n",
    "### 1. 내장함수"
   ]
  },
  {
   "cell_type": "markdown",
   "metadata": {},
   "source": [
    "`max()`, `min()`, `list()`, `str()`, `range()`"
   ]
  },
  {
   "cell_type": "markdown",
   "metadata": {},
   "source": [
    "### 2. 틀린 것은?"
   ]
  },
  {
   "cell_type": "markdown",
   "metadata": {},
   "source": [
    "(1) -> return a,b를 했을 때 (a, b)라는 튜플로 반환이 가능하다."
   ]
  },
  {
   "cell_type": "markdown",
   "metadata": {},
   "source": [
    "### 3. my_mul"
   ]
  },
  {
   "cell_type": "code",
   "execution_count": 21,
   "metadata": {},
   "outputs": [
    {
     "name": "stdout",
     "output_type": "stream",
     "text": [
      "6\n",
      "15\n"
     ]
    }
   ],
   "source": [
    "def my_mul(a, b=1):\n",
    "    return a*b\n",
    "\n",
    "print(my_mul(6))\n",
    "print(my_mul(3, 5))"
   ]
  },
  {
   "cell_type": "code",
   "execution_count": null,
   "metadata": {},
   "outputs": [],
   "source": []
  }
 ],
 "metadata": {
  "kernelspec": {
   "display_name": "Python 3",
   "language": "python",
   "name": "python3"
  },
  "language_info": {
   "codemirror_mode": {
    "name": "ipython",
    "version": 3
   },
   "file_extension": ".py",
   "mimetype": "text/x-python",
   "name": "python",
   "nbconvert_exporter": "python",
   "pygments_lexer": "ipython3",
   "version": "3.6.7"
  }
 },
 "nbformat": 4,
 "nbformat_minor": 2
}
