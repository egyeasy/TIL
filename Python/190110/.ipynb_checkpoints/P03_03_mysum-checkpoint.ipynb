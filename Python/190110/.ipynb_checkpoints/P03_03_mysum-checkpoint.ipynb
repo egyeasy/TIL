{
 "cells": [
  {
   "cell_type": "markdown",
   "metadata": {},
   "source": [
    "# 문자열 덧셈 하기 - 문자열 조작 및 반복/조건문 활용\n",
    "\n",
    "**문제 풀기 전에 어떻게 풀어야할지 생각부터 해봅시다!**\n",
    "\n",
    "> 사람은 덧셈을 할때 뒤에서부터 계산하고, 받아올림을 합니다.\n",
    "> \n",
    "> 문자열 2개를 받아 덧셈을 하여 숫자를 반환하는 함수 `my_sum(num1, num2)`을 만들어보세요.\n",
    "\n",
    "\n",
    "\n",
    "**절대로 `return int(num1)+int(num2)` 이렇게 풀지 맙시다!!**\n",
    "\n",
    "**재귀함수도 사용할 필요 없습니다.**"
   ]
  },
  {
   "cell_type": "code",
   "execution_count": 15,
   "metadata": {},
   "outputs": [],
   "source": [
    "# 여기에 코드를 작성하시오.\n",
    "def my_sum(a, b):\n",
    "    if len(a) > len(b):\n",
    "        b = \"0\"*(len(a)-len(b)) + b\n",
    "    elif len(a) < len(b):\n",
    "        a = \"0\"*(len(b)-len(a)) + a\n",
    "    result = \"\"\n",
    "    added = 0\n",
    "    for i in range(len(a)):\n",
    "        result_i = int(a[::-1][i]) + int(b[::-1][i]) + added\n",
    "        if result_i >= 10:\n",
    "            result = str(result_i - 10) + result\n",
    "            added = 1\n",
    "        else:\n",
    "            result = str(result_i) + result\n",
    "            added = 0\n",
    "    if added == 1:\n",
    "        result = '1' + result\n",
    "    return result"
   ]
  },
  {
   "cell_type": "code",
   "execution_count": 16,
   "metadata": {},
   "outputs": [
    {
     "name": "stdout",
     "output_type": "stream",
     "text": [
      "14\n",
      "200\n",
      "10000\n"
     ]
    }
   ],
   "source": [
    "print(my_sum('9', '5')) # --> 8\n",
    "print(my_sum('123', '77')) # --> 200\n",
    "print(my_sum('1', '9999')) # --> 10000"
   ]
  },
  {
   "cell_type": "code",
   "execution_count": null,
   "metadata": {},
   "outputs": [],
   "source": []
  },
  {
   "cell_type": "code",
   "execution_count": null,
   "metadata": {},
   "outputs": [],
   "source": []
  }
 ],
 "metadata": {
  "kernelspec": {
   "display_name": "Python 3",
   "language": "python",
   "name": "python3"
  },
  "language_info": {
   "codemirror_mode": {
    "name": "ipython",
    "version": 3
   },
   "file_extension": ".py",
   "mimetype": "text/x-python",
   "name": "python",
   "nbconvert_exporter": "python",
   "pygments_lexer": "ipython3",
   "version": "3.6.7"
  },
  "latex_envs": {
   "LaTeX_envs_menu_present": true,
   "autoclose": false,
   "autocomplete": true,
   "bibliofile": "biblio.bib",
   "cite_by": "apalike",
   "current_citInitial": 1,
   "eqLabelWithNumbers": true,
   "eqNumInitial": 1,
   "hotkeys": {
    "equation": "Ctrl-E",
    "itemize": "Ctrl-I"
   },
   "labels_anchors": false,
   "latex_user_defs": false,
   "report_style_numbering": false,
   "user_envs_cfg": false
  },
  "toc": {
   "base_numbering": 1,
   "nav_menu": {},
   "number_sections": true,
   "sideBar": true,
   "skip_h1_title": false,
   "title_cell": "Table of Contents",
   "title_sidebar": "Contents",
   "toc_cell": false,
   "toc_position": {},
   "toc_section_display": true,
   "toc_window_display": false
  }
 },
 "nbformat": 4,
 "nbformat_minor": 2
}
