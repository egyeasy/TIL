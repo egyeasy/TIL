{
 "cells": [
  {
   "cell_type": "code",
   "execution_count": 97,
   "metadata": {},
   "outputs": [],
   "source": [
    "from IPython.display import IFrame"
   ]
  },
  {
   "cell_type": "markdown",
   "metadata": {},
   "source": [
    "# OOP with Python\n",
    "\n",
    "## 용어 정리\n",
    "\n",
    "```python\n",
    "class Person:                      #=> 클래스 정의(선언) : 클래스 객체 생성\n",
    "    name = '호날두'                  #=> 멤버 변수(데이터 어트리뷰트)\n",
    "    def greeting(self):            #=> 멤버 메서드(메서드)\n",
    "        print(f'{self.name}')\n",
    "```\n",
    "    \n",
    "    \n",
    "```python\n",
    "iu = Person()       # 인스턴스 객체 생성\n",
    "daniel = Person()   # 인스턴스 객체 생성\n",
    "iu.name             # 데이터 어트리뷰트 호출\n",
    "iu.greeting()       # 메서드 호출\n",
    "```"
   ]
  },
  {
   "cell_type": "code",
   "execution_count": 4,
   "metadata": {},
   "outputs": [
    {
     "name": "stdout",
     "output_type": "stream",
     "text": [
      "호날두\n",
      "인간\n",
      "아이유\n",
      "인간\n",
      "False\n",
      "True\n"
     ]
    }
   ],
   "source": [
    "class Person:                   \n",
    "    species = '인간'\n",
    "    \n",
    "    def __init__(self, name):\n",
    "        self.name = name\n",
    "    \n",
    "    def greeting(self):         \n",
    "        print(f'{self.name}')\n",
    "\n",
    "cr = Person('호날두')\n",
    "iu = Person('아이유')\n",
    "\n",
    "print(cr.name)\n",
    "print(cr.species)\n",
    "\n",
    "print(iu.name)\n",
    "print(iu.species)\n",
    "\n",
    "print(cr.name == iu.name)\n",
    "print(cr.species == iu.species)"
   ]
  },
  {
   "cell_type": "markdown",
   "metadata": {},
   "source": [
    "* 클래스와 인스턴스간의 관계를 확인해봅시다."
   ]
  },
  {
   "cell_type": "code",
   "execution_count": 6,
   "metadata": {},
   "outputs": [
    {
     "name": "stdout",
     "output_type": "stream",
     "text": [
      "True\n",
      "True\n"
     ]
    }
   ],
   "source": [
    "print(isinstance(iu, Person))\n",
    "print(isinstance(cr, Person))"
   ]
  },
  {
   "cell_type": "code",
   "execution_count": null,
   "metadata": {},
   "outputs": [],
   "source": [
    "# 멤버 변수 = 클래스 변수 + 인스턴스 변수\n",
    "class Person:                   \n",
    "    species = '인간' # 클래스 변수 : 클래스 내의 모든 인스턴스가 공유하고 있는 속성\n",
    "    \n",
    "    def __init__(self):\n",
    "        self.name = '아이유' # 인스턴스 변수 : 각각의 인스턴스(객체)가 독립적으로 가진 속성\n",
    "    def greeting(self):         \n",
    "        print(f'{self.name}')"
   ]
  },
  {
   "cell_type": "markdown",
   "metadata": {},
   "source": [
    "##  `self` : 인스턴스 객체 자기자신\n",
    "\n",
    "* C++ 혹은 자바에서의 this 키워드와 동일함. \n",
    "\n",
    "* 특별한 상황을 제외하고는 무조건 메서드에서 `self`를 첫번째 인자로 설정한다.\n",
    "\n",
    "* 메서드는 인스턴스 객체가 함수의 첫번째 인자로 전달되도록 되어있다."
   ]
  },
  {
   "cell_type": "code",
   "execution_count": 8,
   "metadata": {},
   "outputs": [
    {
     "name": "stdout",
     "output_type": "stream",
     "text": [
      "아이유\n",
      "호날두\n"
     ]
    }
   ],
   "source": [
    "# iu를 다시 인사시켜봅시다.\n",
    "iu.greeting()\n",
    "cr.greeting() # 인스턴스가 실행했을 경우 cr을 greeting의 첫 번째 인자로 자동으로 넣어짐."
   ]
  },
  {
   "cell_type": "code",
   "execution_count": 11,
   "metadata": {},
   "outputs": [
    {
     "name": "stdout",
     "output_type": "stream",
     "text": [
      "인간\n",
      "호날두\n"
     ]
    }
   ],
   "source": [
    "# 다르게 인사를 시킬 수도 있습니다.\n",
    "# 실제로 이렇게 호출이 되는 것과 동일하기에 반드시 self로서 인스턴스 자기자신을 표현해야합니다.\n",
    "\n",
    "print(Person.species) # 인스턴스 인자 없이도 가능. 모두가 공유하기 때문\n",
    "\n",
    "Person.greeting(cr) # 어떤 인스턴스를 불렀는지 모르기 때문에 'cr'이라는 인자를 넣어서 명시해줘야 함!\n",
    "\n",
    "# 클래스는 하나의 네임스페이스. 이 공간의 이름을 적어서 접근하는 방식.\n",
    "# import Person; person.greeting(cr) 과 동일한 효과"
   ]
  },
  {
   "cell_type": "code",
   "execution_count": 10,
   "metadata": {},
   "outputs": [
    {
     "ename": "TypeError",
     "evalue": "greeting() missing 1 required positional argument: 'self'",
     "output_type": "error",
     "traceback": [
      "\u001b[1;31m---------------------------------------------------------------------------\u001b[0m",
      "\u001b[1;31mTypeError\u001b[0m                                 Traceback (most recent call last)",
      "\u001b[1;32m<ipython-input-10-e8785a9ca519>\u001b[0m in \u001b[0;36m<module>\u001b[1;34m\u001b[0m\n\u001b[1;32m----> 1\u001b[1;33m \u001b[0mPerson\u001b[0m\u001b[1;33m.\u001b[0m\u001b[0mgreeting\u001b[0m\u001b[1;33m(\u001b[0m\u001b[1;33m)\u001b[0m\u001b[1;33m\u001b[0m\u001b[1;33m\u001b[0m\u001b[0m\n\u001b[0m",
      "\u001b[1;31mTypeError\u001b[0m: greeting() missing 1 required positional argument: 'self'"
     ]
    }
   ],
   "source": [
    "Person.greeting()"
   ]
  },
  {
   "cell_type": "markdown",
   "metadata": {},
   "source": [
    "* 클래스 선언부 내부에서도 반드시 self를 통해 데이터 어트리뷰트에 접근 해야 합니다."
   ]
  },
  {
   "cell_type": "code",
   "execution_count": null,
   "metadata": {},
   "outputs": [],
   "source": [
    "# 예시를 봅시다.\n",
    "name = '?'\n",
    "\n",
    "class Person:\n",
    "    name = '호날두'\n",
    "    \n",
    "    def greeting(self):\n",
    "        print(f'{name}')"
   ]
  },
  {
   "cell_type": "markdown",
   "metadata": {},
   "source": [
    "### 파이썬 이름 공간 법칙 == 말 안듣는 중2병 히키코모리 막내동생 법칙\n",
    "- Global Scope(Global Namespace) : 가장 바깥의 공간. 어디에서든 여기서 선언한 변수에 접근할 수 있다.\n",
    "\n",
    "\n",
    "- `def hello()`, `class Person()` 정의는 새로운 이름 공간을 만드는 작업. 이 공간 내에서 선언한 변수는 이 공간 내에서만 유효함.\n",
    "\n",
    "\n",
    "- `Person.name` 등으로 공간 이름을 타고 들어와서 접근하는 것은 가능.\n",
    "\n",
    "\n",
    "- python tutor 에서 보면 이해가 더 쉽다.\n",
    "\n",
    "\n",
    "- `cr.species` 를 실행하면 일단 자기 인스턴스 내의 변수를 찾아보고, 없으면 그 다음으로 클래스 변수에 해당 변수가 있는지 찾아봄. "
   ]
  },
  {
   "cell_type": "code",
   "execution_count": 8,
   "metadata": {},
   "outputs": [],
   "source": [
    "name = '?'\n",
    "\n",
    "class Person:\n",
    "    name = '호날두'\n",
    "    \n",
    "    def greeting(self):\n",
    "        print(f'{name}') # global scope에 가서 name을 찾아온 것. self.name이 되어야 '호날두' 출력 가능"
   ]
  },
  {
   "cell_type": "code",
   "execution_count": 10,
   "metadata": {},
   "outputs": [
    {
     "name": "stdout",
     "output_type": "stream",
     "text": [
      "메시\n"
     ]
    }
   ],
   "source": [
    "cr = Person()\n",
    "cr.greeting()"
   ]
  },
  {
   "cell_type": "code",
   "execution_count": 22,
   "metadata": {},
   "outputs": [],
   "source": [
    "name = '?'\n",
    "\n",
    "class Person:\n",
    "    def __init__(self, name):\n",
    "        self.name = name\n",
    "        \n",
    "    name = '호날두'\n",
    "    \n",
    "    \n",
    "    def greeting(self):\n",
    "#         self.name = \"메시\"\n",
    "        print(f'{self.name}')"
   ]
  },
  {
   "cell_type": "code",
   "execution_count": 23,
   "metadata": {},
   "outputs": [
    {
     "name": "stdout",
     "output_type": "stream",
     "text": [
      "와우\n"
     ]
    }
   ],
   "source": [
    "cr = Person(\"와우\")\n",
    "cr.greeting()"
   ]
  },
  {
   "cell_type": "code",
   "execution_count": 18,
   "metadata": {},
   "outputs": [],
   "source": [
    "name = '?'\n",
    "\n",
    "class Person:\n",
    "    species = '인간'\n",
    "    \n",
    "    def __init__(self, name):\n",
    "        self.name = name\n",
    "    \n",
    "    def greeting(self):\n",
    "        print(f'{self.name}') # 인스턴스 변수\n",
    "        print(f'{self.species}') # 클래스 변수 -> 인스턴스 변수 공간에 없는 이름인 경우\n",
    "                                #클래스 공간을 찾으므로 같은 방식으로 호출 가능"
   ]
  },
  {
   "cell_type": "code",
   "execution_count": 24,
   "metadata": {},
   "outputs": [
    {
     "name": "stdout",
     "output_type": "stream",
     "text": [
      "호날두\n"
     ]
    }
   ],
   "source": [
    "cr = Person('호날두')\n",
    "cr.greeting()"
   ]
  },
  {
   "cell_type": "code",
   "execution_count": 89,
   "metadata": {},
   "outputs": [],
   "source": [
    "name = '?'\n",
    "\n",
    "class Person:\n",
    "    population = 0\n",
    "    \n",
    "    def __init__(self, name): # 생성자가 하나씩 생길때마다 증가\n",
    "        self.name = name\n",
    "        population = 20 # 메모리 공간에 있다가 사라짐. 불러낼 수 없다.\n",
    "        Person.population += 1 # Person.population을 하면 생성자 하나씩 생길때마다 증가(총 3)\n",
    "        self.population += 1 # 이건 각각 1이 되게 만듦. instnace 변수를 새로 만들어서 +1\n",
    "    \n",
    "    def greeting(self):\n",
    "        print(f'{self.name}') # 인스턴스 변수\n",
    "        print(f'{self.species}')\n",
    "\n",
    "# print(Person.__init__.population)"
   ]
  },
  {
   "cell_type": "code",
   "execution_count": 90,
   "metadata": {},
   "outputs": [
    {
     "name": "stdout",
     "output_type": "stream",
     "text": [
      "1\n",
      "2\n",
      "2\n",
      "3\n",
      "3\n",
      "4\n"
     ]
    }
   ],
   "source": [
    "cr = Person('호날두')\n",
    "print(Person.population)\n",
    "print(cr.population)\n",
    "\n",
    "me = Person('young')\n",
    "print(Person.population)\n",
    "print(me.population)\n",
    "\n",
    "jst = Person('justin')\n",
    "print(Person.population)\n",
    "print(jst.population)"
   ]
  },
  {
   "cell_type": "code",
   "execution_count": 74,
   "metadata": {},
   "outputs": [],
   "source": [
    "name = '?'\n",
    "\n",
    "class Person:\n",
    "    population = 0\n",
    "    \n",
    "    def __init__(self, name): # 생성자가 하나씩 생길때마다 증가\n",
    "        self.name = name\n",
    "    \n",
    "    def greeting(self):\n",
    "        print(f'{self.name}') # 인스턴스 변수\n",
    "        print(f'{self.species}')"
   ]
  },
  {
   "cell_type": "code",
   "execution_count": 58,
   "metadata": {},
   "outputs": [],
   "source": [
    "cr2 = Person('갓날두')\n",
    "\n",
    "cr2.population = 5 # 조회가 아니라 생성을 한 것. cr2의 공간에 데이터 어트리뷰트를 하나 더 만드는 효과"
   ]
  },
  {
   "cell_type": "markdown",
   "metadata": {},
   "source": [
    "## 클래스-인스턴스간의 이름공간\n",
    "\n",
    "* 클래스를 정의하면, 클래스 객체가 생성되고 해당되는 이름 공간이 생성된다. \n",
    "\n",
    "* 인스턴스를 만들게 되면, 인스턴스 객체가 생성되고 해당되는 이름 공간이 생성된다. \n",
    "\n",
    "* 인스턴스의 어트리뷰트(ex. self.name)가 변경되면, 변경된 데이터를 인스턴스 객체 이름 공간에 저장한다.\n",
    "\n",
    "* 즉, 인스턴스에서 특정한 어트리뷰트에 접근하게 되면 인스턴스 -> 클래스 순으로 탐색을 한다."
   ]
  },
  {
   "cell_type": "code",
   "execution_count": null,
   "metadata": {},
   "outputs": [],
   "source": []
  },
  {
   "cell_type": "code",
   "execution_count": 98,
   "metadata": {},
   "outputs": [
    {
     "data": {
      "text/html": [
       "\n",
       "        <iframe\n",
       "            width=\"100%\"\n",
       "            height=\"300px\"\n",
       "            src=\"https://goo.gl/ZgNaXB\"\n",
       "            frameborder=\"0\"\n",
       "            allowfullscreen\n",
       "        ></iframe>\n",
       "        "
      ],
      "text/plain": [
       "<IPython.lib.display.IFrame at 0x1cf3c798b38>"
      ]
     },
     "execution_count": 98,
     "metadata": {},
     "output_type": "execute_result"
    }
   ],
   "source": [
    "# 아래의 Python Tutor를 통해 순차적으로 확인해봅시다.\n",
    "IFrame('https://goo.gl/ZgNaXB', width='100%', height='300px')"
   ]
  },
  {
   "cell_type": "markdown",
   "metadata": {},
   "source": [
    "## 생성자 / 소멸자\n",
    "\n",
    "* 생성자는 인스턴스 객체가 생성될 때 호출되는 함수이며, 소멸자는 객체가 소멸되는 과정에서 호출되는 함수입니다.\n",
    "\n",
    "```python\n",
    "def __init__(self):\n",
    "    print('생성될 때 자동으로 호출되는 메서드입니다.')\n",
    "    \n",
    "def __del__(self):\n",
    "    print('소멸될 때 자동으로 호출되는 메서드입니다.')\n",
    "```\n",
    "\n",
    "```\n",
    "__someting__\n",
    "```\n",
    "\n",
    "위의 형식처럼 양쪽에 언더스코어가 있는 메서드를 스페셜 메서드 혹은 매직 메서드라고 불립니다."
   ]
  },
  {
   "cell_type": "code",
   "execution_count": 91,
   "metadata": {},
   "outputs": [],
   "source": [
    "class Moosang:\n",
    "    def __init__(self):\n",
    "        print(\"저는 생성자입니다.\")\n",
    "        \n",
    "    def __del__(self):\n",
    "        print(\"저는 소멸자입니다.\")"
   ]
  },
  {
   "cell_type": "code",
   "execution_count": 94,
   "metadata": {},
   "outputs": [
    {
     "name": "stdout",
     "output_type": "stream",
     "text": [
      "저는 생성자입니다.\n",
      "저는 생성자입니다.\n",
      "저는 소멸자입니다.\n"
     ]
    }
   ],
   "source": [
    "#  생성시켜봅시다.\n",
    "life = Moosang()\n",
    "study = Moosang()"
   ]
  },
  {
   "cell_type": "code",
   "execution_count": 95,
   "metadata": {},
   "outputs": [
    {
     "name": "stdout",
     "output_type": "stream",
     "text": [
      "저는 소멸자입니다.\n",
      "저는 소멸자입니다.\n"
     ]
    }
   ],
   "source": [
    "# 소멸시켜봅시다.\n",
    "del life\n",
    "del study"
   ]
  },
  {
   "cell_type": "markdown",
   "metadata": {},
   "source": [
    "* 생성자 역시 메소드이기 때문에 추가적인 인자를 받을 수 있습니다."
   ]
  },
  {
   "cell_type": "code",
   "execution_count": 105,
   "metadata": {},
   "outputs": [],
   "source": [
    "# 생성자에서 이름을 추가적으로 받아서 출력해봅시다.\n",
    "class Person:\n",
    "    def __init__(self, name):\n",
    "        print(\"사람이 생성되었습니다.\")\n",
    "        self.name = name\n",
    "        \n",
    "    def __del__(self):\n",
    "        print(\"사람이 죽었습니다.\")"
   ]
  },
  {
   "cell_type": "code",
   "execution_count": 106,
   "metadata": {},
   "outputs": [
    {
     "name": "stdout",
     "output_type": "stream",
     "text": [
      "사람이 생성되었습니다.\n",
      "사람이 죽었습니다.\n",
      "사람이 생성되었습니다.\n",
      "사람이 죽었습니다.\n"
     ]
    }
   ],
   "source": [
    "# 홍길동이라는 이름을 가진 hong 을 만들어봅시다.\n",
    "hong = Person('홍길동')\n",
    "hong = Person('호날두') # 실행되면서 바인드가 풀려버린 홍길동은 메모리 공간 속에서 사라진다\n",
    "# 파이썬은 미아가 된 애를 없애버린다(garbage collector)"
   ]
  },
  {
   "cell_type": "markdown",
   "metadata": {},
   "source": [
    "* 아래와 같이 모두 사용할 수 있습니다!\n",
    "\n",
    "```python\n",
    "def __init__(self, parameter1, parameter2):\n",
    "    print('생성될 때 자동으로 호출되는 메서드입니다.')\n",
    "    print(parameter1)\n",
    "\n",
    "def __init__(self, *args):\n",
    "    print('생성될 때 자동으로 호출되는 메서드입니다.')\n",
    "\n",
    "def __init__(self, **kwagrs):\n",
    "    print('생성될 때 자동으로 호출되는 메서드입니다.')\n",
    "```"
   ]
  },
  {
   "cell_type": "markdown",
   "metadata": {},
   "source": [
    "* 따라서, 생성자는 값을 초기화하는 과정에서 자주 활용됩니다. \n",
    "\n",
    "* 아래의 클래스 변수와 인스턴스 변수를 통해 확인해보겠습니다."
   ]
  },
  {
   "cell_type": "markdown",
   "metadata": {},
   "source": [
    "## 클래스 변수 / 인스턴스 변수\n",
    "\n",
    "```python\n",
    "class Person:\n",
    "    population = 0              # 클래스 변수 : 모든 인스턴스가 공유함.\n",
    "    \n",
    "    def __init__(self, name):   \n",
    "        self.name = name        # 인스턴스 변수 : 인스턴스별로 각각 가지는 변수\n",
    "```        "
   ]
  },
  {
   "cell_type": "code",
   "execution_count": 121,
   "metadata": {},
   "outputs": [
    {
     "name": "stdout",
     "output_type": "stream",
     "text": [
      "인구가 증가하여 1명이 되었습니다.\n",
      "소멸될 때 자동으로 호출되는 메서드입니다.\n"
     ]
    },
    {
     "data": {
      "text/plain": [
       "'no name'"
      ]
     },
     "execution_count": 121,
     "metadata": {},
     "output_type": "execute_result"
    }
   ],
   "source": [
    "# 위의 생성자와 인사하는 메소드를 만들어봅시다. \n",
    "class Person:\n",
    "#     name = \"john\"            # 클래스 변수 : 모든 인스턴스가 공유함.\n",
    "    population = 0\n",
    "    \n",
    "    def __init__(self, name=\"no name\"):   \n",
    "        self.name = name        # 인스턴스 변수 : 인스턴스별로 각각 가지는 변수\n",
    "        Person.population += 1\n",
    "        print(f'인구가 증가하여 {Person.population}명이 되었습니다.')\n",
    "        \n",
    "    def __del__(self):\n",
    "        Person.population -= 1\n",
    "        print(f'인구가 감소하여 {Person.population}명이 되었습니다.')\n",
    "        \n",
    "john = Person()\n",
    "john.name"
   ]
  },
  {
   "cell_type": "code",
   "execution_count": 122,
   "metadata": {},
   "outputs": [
    {
     "name": "stdout",
     "output_type": "stream",
     "text": [
      "인구가 증가하여 2명이 되었습니다.\n",
      "소멸될 때 자동으로 호출되는 메서드입니다.\n"
     ]
    }
   ],
   "source": [
    "# 본인의 이름을 가진 인스턴스를 만들어봅시다.\n",
    "young = Person('young')"
   ]
  },
  {
   "cell_type": "code",
   "execution_count": 123,
   "metadata": {},
   "outputs": [
    {
     "data": {
      "text/plain": [
       "'young'"
      ]
     },
     "execution_count": 123,
     "metadata": {},
     "output_type": "execute_result"
    }
   ],
   "source": [
    "# 이름을 출력해봅시다.\n",
    "young.name"
   ]
  },
  {
   "cell_type": "code",
   "execution_count": 124,
   "metadata": {},
   "outputs": [
    {
     "name": "stdout",
     "output_type": "stream",
     "text": [
      "인구가 증가하여 3명이 되었습니다.\n",
      "소멸될 때 자동으로 호출되는 메서드입니다.\n"
     ]
    }
   ],
   "source": [
    "# 옆자리 친구의 이름을 가진 인스턴스를 만들어봅시다.\n",
    "minhee = Person('minhee')"
   ]
  },
  {
   "cell_type": "code",
   "execution_count": 125,
   "metadata": {},
   "outputs": [
    {
     "data": {
      "text/plain": [
       "'minhee'"
      ]
     },
     "execution_count": 125,
     "metadata": {},
     "output_type": "execute_result"
    }
   ],
   "source": [
    "# 이름을 출력해봅시다.\n",
    "minhee.name"
   ]
  },
  {
   "cell_type": "code",
   "execution_count": 126,
   "metadata": {},
   "outputs": [
    {
     "name": "stdout",
     "output_type": "stream",
     "text": [
      "3\n"
     ]
    }
   ],
   "source": [
    "# population을 출력해봅시다.\n",
    "print(Person.population)"
   ]
  },
  {
   "cell_type": "code",
   "execution_count": 127,
   "metadata": {},
   "outputs": [
    {
     "name": "stdout",
     "output_type": "stream",
     "text": [
      "3\n",
      "3\n"
     ]
    }
   ],
   "source": [
    "# 물론, 인스턴스도 접근 가능합니다. 왜일까요?!\n",
    "print(young.population)\n",
    "\n",
    "# 이름공간\n",
    "print(minhee.population)"
   ]
  },
  {
   "cell_type": "markdown",
   "metadata": {},
   "source": [
    "## 정적 메서드 / 클래스 메서드\n",
    "\n",
    "* 메서드 호출을 인스턴스가 아닌 클래스가 할 수 있도록 구성할 수 있습니다. \n",
    "\n",
    "* 이때 활용되는게 정적 메서드 혹은 클래스 메서드입니다.\n",
    "\n",
    "* 정적 메소드는 객체가 전달되지 않은 형태이며, 클래스 메서드는 인자로 클래스를 넘겨준다."
   ]
  },
  {
   "cell_type": "code",
   "execution_count": 129,
   "metadata": {
    "scrolled": true
   },
   "outputs": [],
   "source": [
    "# Person 클래스가 인사할 수 있는지 확인해보겠습니다.\n",
    "class Person:\n",
    "#     name = \"john\"            # 클래스 변수 : 모든 인스턴스가 공유함.\n",
    "    population = 0\n",
    "    \n",
    "    def __init__(self, name=\"no name\"):   \n",
    "        self.name = name        # 인스턴스 변수 : 인스턴스별로 각각 가지는 변수\n",
    "        Person.population += 1\n",
    "        print(f'인구가 증가하여 {Person.population}명이 되었습니다.')\n",
    "        \n",
    "    def __del__(self):\n",
    "        Person.population -= 1\n",
    "        print(f'인구가 감소하여 {Person.population}명이 되었습니다.')\n",
    "        \n",
    "    def greeting(self):\n",
    "        print(f'안녕하세요. 저는 {self.name}입니다.')"
   ]
  },
  {
   "cell_type": "code",
   "execution_count": 140,
   "metadata": {},
   "outputs": [],
   "source": [
    "# 이번에는 Dog class를 만들어보겠습니다.\n",
    "# 클래스 변수 num_of_dogs 통해 개가 생성될 때마다 증가시키도록 하겠습니다. \n",
    "# 개들은 각자의 이름과 나이를 가지고 있습니다. \n",
    "# 그리고 bark() 메서드를 통해 짖을 수 있습니다. \n",
    "class Dog:\n",
    "    num_of_dogs = 0\n",
    "    \n",
    "    def __init__(self, name, age):\n",
    "        self.name = name\n",
    "        self.age = age\n",
    "        Dog.num_of_dogs += 1\n",
    "        \n",
    "    def bark(self):\n",
    "        print(f\"멍멍 저는 {self.name}, {self.age}살 입니다.\")\n",
    "\n",
    "    @staticmethod # 관례상 써준다\n",
    "    def info(): # self를 넣지 않은 메소드 - static method\n",
    "        print(\"강아지입니다.\")"
   ]
  },
  {
   "cell_type": "code",
   "execution_count": 141,
   "metadata": {},
   "outputs": [
    {
     "name": "stdout",
     "output_type": "stream",
     "text": [
      "3\n",
      "누렁이\n",
      "멍멍 저는 누렁이, 5살 입니다.\n",
      "강아지입니다.\n"
     ]
    }
   ],
   "source": [
    "# 각각 이름과 나이가 다른 인스턴스를 3개 만들어봅시다.\n",
    "puppy = Dog('멍멍이', 1)\n",
    "maltiz = Dog('바다', 3)\n",
    "nurung = Dog('누렁이', 5)\n",
    "\n",
    "print(Dog.num_of_dogs) # 직접 접근 -> 앞으로는 OOP에서 기피해야. 하나의 메소드를 통해서 접근할 수 있게 해야함.\n",
    "print(nurung.name) # 직접 접근\n",
    "\n",
    "nurung.bark()\n",
    "# nurung.info() # 에러\n",
    "Dog.info() # static method"
   ]
  },
  {
   "cell_type": "markdown",
   "metadata": {},
   "source": [
    "* staticmethod는 다음과 같이 정의됩니다.\n",
    "\n",
    "```python\n",
    "\n",
    "@staticmethod\n",
    "def methodname():\n",
    "    codeblock\n",
    "```"
   ]
  },
  {
   "cell_type": "code",
   "execution_count": null,
   "metadata": {},
   "outputs": [],
   "source": [
    "# 단순한 static method를 만들어보겠습니다.\n"
   ]
  },
  {
   "cell_type": "code",
   "execution_count": null,
   "metadata": {},
   "outputs": [],
   "source": [
    "# 3마리를 만들어보고,\n"
   ]
  },
  {
   "cell_type": "markdown",
   "metadata": {},
   "source": [
    "## 인스턴스 메서드\n",
    "첫번째 인자로 **인스턴스**를 받는 메서드\n",
    "\n",
    "```python\n",
    "class Person:\n",
    "    # 인스턴스 메서드\n",
    "    def greeting(self):\n",
    "        \n",
    "```\n",
    "\n",
    "## 클래스 메서드\n",
    "첫번째 인자로 **클래스**를 받는 메서드\n",
    "\n",
    "```python\n",
    "class Person:\n",
    "    # 클래스 메서드\n",
    "    def count(cls):\n",
    "\n",
    "```\n",
    "## 스태틱(정적) 메서드\n",
    "인자로 아무것도 받지 않는 메서드 (데이터 조작을 하지 않는 함수/메서드)\n",
    "\n",
    "```python\n",
    "class Person:\n",
    "    def info():\n",
    "        \n",
    "```"
   ]
  },
  {
   "cell_type": "markdown",
   "metadata": {},
   "source": [
    "* classmethod는 다음과 같이 정의됩니다.\n",
    "\n",
    "```python\n",
    "\n",
    "@classmethod\n",
    "def methodname(cls):\n",
    "    codeblock\n",
    "```"
   ]
  },
  {
   "cell_type": "code",
   "execution_count": 202,
   "metadata": {},
   "outputs": [],
   "source": [
    "# 개의 숫자를 출력하는 classmethod를 만들어보겠습니다.\n",
    "class Dog:\n",
    "    num_of_dogs = 0\n",
    "    \n",
    "    def __init__(self, name, age):\n",
    "        self.name = name\n",
    "        self.age = age\n",
    "        Dog.num_of_dogs += 1\n",
    "    \n",
    "    def bark(self):\n",
    "        print(f\"멍멍 저는 {self.name}, {self.age}살 입니다.\")\n",
    "\n",
    "    @staticmethod # 이게 있어야 puppy.info()로 돌아간다.(클래스 뿐만 아니라 인스턴스에서도 쓸 수 있는 메서드가 됨)\n",
    "    def info(): # self를 넣지 않은 메소드 - static method. 클래스 데이터에 대한 직접적인 접근을 하지 않는 데에 쓰는 메서드\n",
    "        print(\"강아지입니다.\")\n",
    "        \n",
    "    @classmethod # 왼쪽이 클래스라고 인지하고 인자로 넘겨주는 기능(없으면 Dog가 인스턴스가 아니므로 에러 메시지)\n",
    "    def count(cls): # cls가 아니어도 상관 없다. \n",
    "        print(f\"{cls.num_of_dogs}마리 생존 중\")"
   ]
  },
  {
   "cell_type": "code",
   "execution_count": 203,
   "metadata": {},
   "outputs": [],
   "source": [
    "# 3마리를 만들어보고,\n",
    "puppy = Dog('멍멍이', 1)\n",
    "maltiz = Dog('바다', 3)\n",
    "nurung = Dog('누렁이', 5)"
   ]
  },
  {
   "cell_type": "code",
   "execution_count": 204,
   "metadata": {
    "scrolled": true
   },
   "outputs": [
    {
     "name": "stdout",
     "output_type": "stream",
     "text": [
      "멍멍 저는 멍멍이, 1살 입니다.\n",
      "멍멍 저는 멍멍이, 1살 입니다.\n",
      "강아지입니다.\n",
      "강아지입니다.\n",
      "3마리 생존 중\n",
      "3마리 생존 중\n"
     ]
    }
   ],
   "source": [
    "puppy.bark()\n",
    "\n",
    "# Dog.bark() # Dog가 인스턴스가 아니라서 에러 메시지\n",
    "Dog.bark(puppy)\n",
    "\n",
    "Dog.info()\n",
    "puppy.info()\n",
    "\n",
    "Dog.count()\n",
    "puppy.count()"
   ]
  },
  {
   "cell_type": "markdown",
   "metadata": {},
   "source": [
    "## 실습문제 - 정적 메소드\n",
    "\n",
    "> 계산기 class인 `Calculator`를 만들어봅시다.\n",
    "\n",
    "* 정적 메소드 : 두 수를 받아서 각각의 연산을 한 결과를 반환(return)\n",
    "\n",
    "    1. `add()` : 덧셈\n",
    "    \n",
    "    2. `sub()` : 뺄셈 \n",
    "    \n",
    "    3. `mul()` : 곱셈\n",
    "    \n",
    "    4. `div()` : 나눗셈\n"
   ]
  },
  {
   "cell_type": "code",
   "execution_count": 179,
   "metadata": {},
   "outputs": [],
   "source": [
    "# 아래에 코드를 작성해주세요.\n",
    "class Calculator:\n",
    "    \n",
    "    def add(a, b):\n",
    "        return a + b\n",
    "    \n",
    "    @staticmethod\n",
    "    def sub(a, b):\n",
    "        return a - b"
   ]
  },
  {
   "cell_type": "code",
   "execution_count": 185,
   "metadata": {},
   "outputs": [
    {
     "name": "stdout",
     "output_type": "stream",
     "text": [
      "8\n",
      "2\n"
     ]
    },
    {
     "data": {
      "text/plain": [
       "2"
      ]
     },
     "execution_count": 185,
     "metadata": {},
     "output_type": "execute_result"
    }
   ],
   "source": [
    "print(Calculator.add(5, 3))\n",
    "print(Calculator.sub(5, 3))\n",
    "\n",
    "cal = Calculator()\n",
    "cal.sub(5, 3)"
   ]
  },
  {
   "cell_type": "code",
   "execution_count": 183,
   "metadata": {},
   "outputs": [
    {
     "ename": "TypeError",
     "evalue": "add() takes 2 positional arguments but 3 were given",
     "output_type": "error",
     "traceback": [
      "\u001b[1;31m---------------------------------------------------------------------------\u001b[0m",
      "\u001b[1;31mTypeError\u001b[0m                                 Traceback (most recent call last)",
      "\u001b[1;32m<ipython-input-183-6a4a67970e09>\u001b[0m in \u001b[0;36m<module>\u001b[1;34m\u001b[0m\n\u001b[1;32m----> 1\u001b[1;33m \u001b[0mcal\u001b[0m\u001b[1;33m.\u001b[0m\u001b[0madd\u001b[0m\u001b[1;33m(\u001b[0m\u001b[1;36m5\u001b[0m\u001b[1;33m,\u001b[0m \u001b[1;36m3\u001b[0m\u001b[1;33m)\u001b[0m\u001b[1;33m\u001b[0m\u001b[1;33m\u001b[0m\u001b[0m\n\u001b[0m",
      "\u001b[1;31mTypeError\u001b[0m: add() takes 2 positional arguments but 3 were given"
     ]
    }
   ],
   "source": [
    "cal.add(5, 3) # default로 add(cal, 5, 3)으로 작동하기 때문"
   ]
  },
  {
   "cell_type": "markdown",
   "metadata": {},
   "source": [
    "## 실습문제 - 종합1\n",
    "\n",
    "> 사실 이전에 작성한 Mylist는 완벽하지 않았습니다. \n",
    ">\n",
    "> 한번 제대로 된 자료구조를 만들어보겠습니다. \n",
    ">\n",
    "> `Stack` 클래스를 간략하게 구현해봅시다.\n",
    "\n",
    "> [Stack](https://ko.wikipedia.org/wiki/%EC%8A%A4%ED%83%9D) : 스택은 LIFO(Last in First Out)으로 구조화된 자료구조를 뜻합니다.\n",
    "\n",
    "1. `empty()`: 스택이 비었다면 참을 주고,그렇지 않다면 거짓이 된다.\n",
    "\n",
    "2. `top()`: 스택의 가장 마지막 데이터를 넘겨준다. 스택이 비었다면 None을 리턴해주세요.\n",
    "\n",
    "3. `pop()`: 스택의 가장 마지막 데이터의 값을 넘겨주고 해당 데이터를 삭제한다. 스택이 비었다면 None을 리턴해주세요.\n",
    "\n",
    "4. `push()`: 스택의 가장 마지막 데이터 뒤에 값을 추가한다. 리턴값 없음\n",
    "\n",
    "**다 완료하신 분들은 __repr__을 통해 예쁘게 출력까지 해봅시다.**"
   ]
  },
  {
   "cell_type": "code",
   "execution_count": null,
   "metadata": {},
   "outputs": [],
   "source": [
    "# 여기에 코드를 작성해주세요.\n"
   ]
  },
  {
   "cell_type": "code",
   "execution_count": null,
   "metadata": {},
   "outputs": [],
   "source": [
    "# 인스턴스를 하나 만들고 메소드 조작을 해봅시다.\n"
   ]
  },
  {
   "cell_type": "code",
   "execution_count": null,
   "metadata": {},
   "outputs": [],
   "source": []
  },
  {
   "cell_type": "code",
   "execution_count": null,
   "metadata": {},
   "outputs": [],
   "source": []
  },
  {
   "cell_type": "code",
   "execution_count": null,
   "metadata": {},
   "outputs": [],
   "source": []
  },
  {
   "cell_type": "markdown",
   "metadata": {},
   "source": [
    "## 연산자 오버로딩(중복 정의)\n",
    "\n",
    "* 파이썬에 기본적으로 정의된 연산자를 직접적으로 정의하여 활용할 수 있습니다. \n",
    "\n",
    "* 몇가지만 소개하고 활용해봅시다.\n",
    "\n",
    "* 아래는 magic method들\n",
    "\n",
    "* google 'python operator overloading list'\n",
    "\n",
    "```\n",
    "+  __add__   \n",
    "-  __sub__\n",
    "*  __mul__\n",
    "<  __lt__\n",
    "<= __le__\n",
    "== __eq__\n",
    "!= __ne__\n",
    ">= __ge__\n",
    ">  __gt__\n",
    "```"
   ]
  },
  {
   "cell_type": "code",
   "execution_count": 186,
   "metadata": {},
   "outputs": [
    {
     "data": {
      "text/plain": [
       "'hello world'"
      ]
     },
     "execution_count": 186,
     "metadata": {},
     "output_type": "execute_result"
    }
   ],
   "source": [
    "\"hello \" + \"world\""
   ]
  },
  {
   "cell_type": "code",
   "execution_count": 205,
   "metadata": {},
   "outputs": [
    {
     "name": "stdout",
     "output_type": "stream",
     "text": [
      "True\n",
      "True\n",
      "하트 뿅뿅\n",
      "하트 뿅뿅\n"
     ]
    }
   ],
   "source": [
    "# 사람과 사람을 같은지 비교하면, 이는 나이가 같은지 비교한 결과를 반환하도록 만들어봅시다.\n",
    "class Person:\n",
    "    def __init__(self, name, age, asset, height, gpa):\n",
    "        self.name = name\n",
    "        self.age = age\n",
    "        self.asset = asset\n",
    "        self.height = height\n",
    "        self.gpa = gpa\n",
    "        \n",
    "    def __gt__(self, obj): # self 외의 다른 객체를 받아서 쓸 것.\n",
    "        if self.age > obj.age:\n",
    "            return True\n",
    "        else:\n",
    "            return False\n",
    "        \n",
    "    def __add__(self, obj):\n",
    "        print(\"하트 뿅뿅\")\n",
    "        \n",
    "minsu = Person('minsu', 28, 700000, 178, 4.2)\n",
    "insung = Person('insung', 38, 7000000000, 189, 1.8)\n",
    "\n",
    "print(insung > minsu) # 두 개는 같은 것\n",
    "print(insung.__gt__(minsu))\n",
    "\n",
    "insung.__add__(minsu)\n",
    "insung + minsu"
   ]
  },
  {
   "cell_type": "code",
   "execution_count": null,
   "metadata": {},
   "outputs": [],
   "source": [
    "# 연산자를 호출해봅시다.\n"
   ]
  },
  {
   "cell_type": "code",
   "execution_count": null,
   "metadata": {},
   "outputs": [],
   "source": [
    "# 원하는 연산자를 사람과 사람을 비교해보세요."
   ]
  },
  {
   "cell_type": "code",
   "execution_count": null,
   "metadata": {},
   "outputs": [],
   "source": [
    "# 파이썬 내부를 살펴봅시다.\n",
    "\n",
    "# 이렇게 + 연산자가 서로 다르게 활용될 수 있는 이유는 파이썬 내부적으로 각각 다른 클래스마다 다른 정의가 있기 때문입니다."
   ]
  },
  {
   "cell_type": "markdown",
   "metadata": {},
   "source": [
    "# 상속 \n",
    "\n",
    "## 기초\n",
    "\n",
    "* 클래스에서 가장 큰 특징은 '상속' 기능을 가지고 있다는 것이다. \n",
    "\n",
    "* 부모 클래스의 모든 속성이 자식 클래스에게 상속 되므로 코드재사용성이 높아집니다.\n",
    "\n",
    "```python\n",
    "class DerivedClassName(BaseClassName):\n",
    "    code block\n",
    "```"
   ]
  },
  {
   "cell_type": "code",
   "execution_count": null,
   "metadata": {},
   "outputs": [],
   "source": [
    "class User:\n",
    "    def __init__(self, email, password, name):\n",
    "        self.email = email\n",
    "        self.password = password\n",
    "        self.name = name\n",
    "        \n",
    "    def create_post(self, title, content):\n",
    "        print(f\"{self.name}님이 {title}라는 제목의 {content}을 작성하였습니다.\")\n",
    "        \n",
    "user1 = User('adsf@dfawe.com', '12341234', 'john')\n",
    "user1.create_post('하하ㅏ 제목', '내 첫 번째 글')\n",
    "\n",
    "class AdminUser:\n",
    "    def __init__(self, email, password, name):\n",
    "        self.email = email\n",
    "        self.password = password\n",
    "        self.name = name\n",
    "        \n",
    "    def create_post(self, title, content):\n",
    "        print(f\"{self.name}님이 {title}라는 제목의 {content}을 작성하였습니다.\")\n",
    "    \n",
    "    def delete_post(self):\n",
    "        print(\"글을 삭제했습니다.\")\n",
    "    \n",
    "class SuperAdminUser:\n",
    "    def __init__(self, email, password, name):\n",
    "        self.email = email\n",
    "        self.password = password\n",
    "        self.name = name\n",
    "        \n",
    "    def create_post(self, title, content):\n",
    "        print(f\"{self.name}님이 {title}라는 제목의 {content}을 작성하였습니다.\")\n",
    "    \n",
    "    def delete_post(self):\n",
    "        print(\"글을 삭제했습니다.\")\n",
    "        \n",
    "    def delete_user(self):\n",
    "        print(\"유저를 삭제했습니다.\")"
   ]
  },
  {
   "cell_type": "code",
   "execution_count": 209,
   "metadata": {},
   "outputs": [
    {
     "name": "stdout",
     "output_type": "stream",
     "text": [
      "john님이 하하ㅏ 제목라는 제목의 내 첫 번째 글을 작성하였습니다.\n"
     ]
    }
   ],
   "source": [
    "class User:\n",
    "    def __init__(self, email, password, name):\n",
    "        self.email = email\n",
    "        self.password = password\n",
    "        self.name = name\n",
    "        \n",
    "    def create_post(self, title, content):\n",
    "        print(f\"{self.name}님이 {title}라는 제목의 {content}을 작성하였습니다.\")\n",
    "        \n",
    "user1 = User('adsf@dfawe.com', '12341234', 'john')\n",
    "user1.create_post('하하ㅏ 제목', '내 첫 번째 글')\n",
    "\n",
    "class AdminUser(User):\n",
    "    def delete_post(self):\n",
    "        print(\"글을 삭제했습니다.\")\n",
    "    \n",
    "class SuperAdminUser(AdminUser):\n",
    "    def delete_user(self):\n",
    "        print(\"유저를 삭제했습니다.\")"
   ]
  },
  {
   "cell_type": "code",
   "execution_count": 210,
   "metadata": {},
   "outputs": [],
   "source": [
    "# 인사만 할 수 있는 간단한 사람 클래스를 만들어봅시다.\n",
    "class Person:\n",
    "    def __init__(self, name):\n",
    "        self.name = name\n",
    "        \n",
    "    def sleep(self):\n",
    "        print(\"드르렁\")"
   ]
  },
  {
   "cell_type": "code",
   "execution_count": 211,
   "metadata": {},
   "outputs": [],
   "source": [
    "# 사람 클래스를 상속받아 학생 클래스를 만들어봅시다.\n",
    "class Student(Person):\n",
    "    def study(self):\n",
    "        print(\"열공열공\")"
   ]
  },
  {
   "cell_type": "code",
   "execution_count": 217,
   "metadata": {},
   "outputs": [
    {
     "name": "stdout",
     "output_type": "stream",
     "text": [
      "드르렁\n",
      "드르렁\n",
      "열공열공\n"
     ]
    }
   ],
   "source": [
    "# 학생을 만들어봅시다.\n",
    "john = Person('john')\n",
    "john.sleep()\n",
    "# john.study() # 에러\n",
    "\n",
    "donghoon = Student('donghoon')\n",
    "donghoon.sleep()\n",
    "donghoon.study()"
   ]
  },
  {
   "cell_type": "code",
   "execution_count": null,
   "metadata": {},
   "outputs": [],
   "source": [
    "# 부모 클래스에 정의를 했음에도 메소드를 호출 할 수 있습니다.\n"
   ]
  },
  {
   "cell_type": "markdown",
   "metadata": {},
   "source": [
    "* 이처럼 상속은 공통된 속성이나 메소드를 부모 클래스에 정의하고, 이를 상속받아 다양한 형태의 사람들을 만들 수 있습니다."
   ]
  },
  {
   "cell_type": "code",
   "execution_count": 218,
   "metadata": {},
   "outputs": [
    {
     "data": {
      "text/plain": [
       "False"
      ]
     },
     "execution_count": 218,
     "metadata": {},
     "output_type": "execute_result"
    }
   ],
   "source": [
    "# 진짜 상속관계인지 확인해봅시다.\n",
    "issubclass(Person, Student)"
   ]
  },
  {
   "cell_type": "code",
   "execution_count": 219,
   "metadata": {},
   "outputs": [
    {
     "data": {
      "text/plain": [
       "True"
      ]
     },
     "execution_count": 219,
     "metadata": {},
     "output_type": "execute_result"
    }
   ],
   "source": [
    "issubclass(Student, Person)"
   ]
  },
  {
   "cell_type": "markdown",
   "metadata": {},
   "source": [
    "## super()\n",
    "\n",
    "* 자식 클래스에 메서드를 추가 구현할 수 있습니다.\n",
    "\n",
    "* 부모 클래스의 내용을 사용하고자 할 때, `super()`를 사용할 수 있습니다."
   ]
  },
  {
   "cell_type": "code",
   "execution_count": 220,
   "metadata": {},
   "outputs": [],
   "source": [
    "class Person:\n",
    "    def __init__(self, name, age, number, email):\n",
    "        self.name = name\n",
    "        self.age = age\n",
    "        self.number = number\n",
    "        self.email = email \n",
    "        \n",
    "    def greeting(self):\n",
    "        print(f'안녕, {self.name}')\n",
    "        \n",
    "class Student(Person):\n",
    "    def __init__(self, name, age, number, email, student_id):\n",
    "        self.name = name\n",
    "        self.age = age\n",
    "        self.number = number\n",
    "        self.email = email \n",
    "        self.student_id = student_id\n",
    "        \n",
    "p1 = Person('홍길동', 200, '0101231234', 'hong@gildong')\n",
    "s1 = Student('학생', 20, '12312312', 'student@naver.com', '190000')"
   ]
  },
  {
   "cell_type": "markdown",
   "metadata": {},
   "source": [
    "* 위의 코드를 보면, 상속을 했음에도 불구하고 동일한 코드가 반복됩니다. "
   ]
  },
  {
   "cell_type": "code",
   "execution_count": 224,
   "metadata": {},
   "outputs": [],
   "source": [
    "# 이를 수정해봅시다.\n",
    "class Person:\n",
    "    def __init__(self, name, age, number, email):\n",
    "        self.name = name\n",
    "        self.age = age\n",
    "        self.number = number\n",
    "        self.email = email \n",
    "        \n",
    "    def greeting(self):\n",
    "        print(f'안녕, {self.name}')\n",
    "        \n",
    "class Student(Person):\n",
    "    def __init__(self, name, age, number, email, student_id):\n",
    "#         Person.__init__(self, name, age, number, email) # Person으로 직접 접근할 경우 컨텍스트로서 self를 인자로 넣어줘야 한다.\n",
    "        super().__init__(name, age, number, email) # Person과 함께 앞의 모든 컨텍스트를 인자로 넣어주므로 self를 넣어줄 필요가 없다.\n",
    "        self.student_id = student_id\n",
    "        \n",
    "p1 = Person('홍길동', 200, '0101231234', 'hong@gildong')\n",
    "s1 = Student('학생', 20, '12312312', 'student@naver.com', '190000')"
   ]
  },
  {
   "cell_type": "markdown",
   "metadata": {},
   "source": [
    "## 메소드 오버라이딩\n",
    "\n",
    "* 메서드를 재정의할 수도 있습니다."
   ]
  },
  {
   "cell_type": "code",
   "execution_count": 227,
   "metadata": {},
   "outputs": [
    {
     "name": "stdout",
     "output_type": "stream",
     "text": [
      "안녕, 난 홍길동\n",
      "안녕, 난 학생\n"
     ]
    }
   ],
   "source": [
    "# 학생은 공손하게 이야기를 해봅시다.\n",
    "class Person:\n",
    "    def __init__(self, name, age, number, email):\n",
    "        self.name = name\n",
    "        self.age = age\n",
    "        self.number = number\n",
    "        self.email = email \n",
    "        \n",
    "    def greeting(self):\n",
    "        print(f'안녕, 난 {self.name}')\n",
    "        \n",
    "class Student(Person):\n",
    "    def __init__(self, name, age, number, email, student_id):\n",
    "        super().__init__(name, age, number, email)\n",
    "        self.student_id = student_id\n",
    "        \n",
    "#     def greeting(self):\n",
    "#         print(f\"안녕하세요. 저는 {self.name}입니다.\")\n",
    "        \n",
    "p1 = Person('홍길동', 200, '0101231234', 'hong@gildong')\n",
    "s1 = Student('학생', 20, '12312312', 'student@naver.com', '190000')\n",
    "\n",
    "p1.greeting()\n",
    "s1.greeting()"
   ]
  },
  {
   "cell_type": "code",
   "execution_count": 229,
   "metadata": {},
   "outputs": [
    {
     "name": "stdout",
     "output_type": "stream",
     "text": [
      "안녕, 난 홍길동\n",
      "안녕하세요. 저는 학생입니다.\n"
     ]
    }
   ],
   "source": [
    "class Person:\n",
    "    def __init__(self, name, age, number, email):\n",
    "        self.name = name\n",
    "        self.age = age\n",
    "        self.number = number\n",
    "        self.email = email \n",
    "        \n",
    "    def greeting(self):\n",
    "        print(f'안녕, 난 {self.name}')\n",
    "        \n",
    "class Student(Person):\n",
    "    def __init__(self, name, age, number, email, student_id):\n",
    "        super().__init__(name, age, number, email)\n",
    "        self.student_id = student_id\n",
    "        \n",
    "    def greeting(self):\n",
    "        print(f\"안녕하세요. 저는 {self.name}입니다.\")\n",
    "        \n",
    "p1 = Person('홍길동', 200, '0101231234', 'hong@gildong')\n",
    "s1 = Student('학생', 20, '12312312', 'student@naver.com', '190000')\n",
    "\n",
    "p1.greeting()\n",
    "s1.greeting()"
   ]
  },
  {
   "cell_type": "markdown",
   "metadata": {},
   "source": [
    "## 상속관계에서의 이름공간\n",
    "\n",
    "* 기존에 인스턴스 -> 클래스순으로 이름 공간을 탐색해나가는 과정에서 상속관계에 있으면 아래와 같이 확장됩니다.\n",
    "\n",
    "* 인스턴스 -> 자식 클래스 -> 부모 클래스"
   ]
  },
  {
   "cell_type": "markdown",
   "metadata": {},
   "source": [
    "## 실습1 \n",
    "\n",
    "> Teacher 클래스를 만들어보고 Student와 Teacher 클래스에 각각 다른 행동의 메소드들을 하나씩 추가해봅시다."
   ]
  },
  {
   "cell_type": "code",
   "execution_count": 233,
   "metadata": {},
   "outputs": [
    {
     "name": "stdout",
     "output_type": "stream",
     "text": [
      "안녕, 난 홍길동\n",
      "안녕하세요. 저는 학생입니다.\n",
      "공부 중입니다.\n",
      "국어 과목을 가르칩니다.\n"
     ]
    }
   ],
   "source": [
    "# 아래에 코드를 작성해주세요.\n",
    "class Person:\n",
    "    def __init__(self, name, age, number, email):\n",
    "        self.name = name\n",
    "        self.age = age\n",
    "        self.number = number\n",
    "        self.email = email \n",
    "        \n",
    "    def greeting(self):\n",
    "        print(f'안녕, 난 {self.name}')\n",
    "        \n",
    "class Student(Person):\n",
    "    def __init__(self, name, age, number, email, student_id):\n",
    "        super().__init__(name, age, number, email)\n",
    "        self.student_id = student_id\n",
    "        \n",
    "    def greeting(self):\n",
    "        print(f\"안녕하세요. 저는 {self.name}입니다.\")\n",
    "        \n",
    "    def studying(self):\n",
    "        print(f\"공부 중입니다.\")\n",
    "        \n",
    "class Teacher(Person):\n",
    "    def __init__(self, name, age, number, email, subject):\n",
    "        super().__init__(name, age, number, email)\n",
    "        self.subject = subject\n",
    "        \n",
    "    def teaching(self):\n",
    "        print(f\"{self.subject} 과목을 가르칩니다.\")\n",
    "    \n",
    "    \n",
    "p1 = Person('홍길동', 200, '0101231234', 'hong@gildong')\n",
    "s1 = Student('학생', 20, '12312312', 'student@naver.com', '190000')\n",
    "t1 = Teacher('선생', 40, '123414', 'teacher@snu.ac.kr', '국어')\n",
    "\n",
    "p1.greeting()\n",
    "s1.greeting()\n",
    "s1.studying()\n",
    "t1.teaching()"
   ]
  },
  {
   "cell_type": "markdown",
   "metadata": {},
   "source": [
    "## 실습2\n",
    "\n",
    "> 사실 사람은 포유류입니다. \n",
    ">\n",
    "> Animal Class를 만들고, Person클래스가 상속받도록 구성해봅시다.\n",
    ">\n",
    "> 변수나, 메소드는 자유롭게 만들어봅시다."
   ]
  },
  {
   "cell_type": "code",
   "execution_count": 238,
   "metadata": {},
   "outputs": [
    {
     "name": "stdout",
     "output_type": "stream",
     "text": [
      "호랑이종에 속하며, 2010년에 태어났고 8살입니다.\n",
      "인간종에 속하며, 1992년에 태어났고 27살입니다. 직업은 학생입니다.\n"
     ]
    }
   ],
   "source": [
    "# 아래에 코드를 작성해주세요.\n",
    "class Animal:\n",
    "    def __init__(self, species, birth, age):\n",
    "        self.species = species\n",
    "        self.birth = birth\n",
    "        self.age = age\n",
    "        \n",
    "    def info(self):\n",
    "        print(f\"{self.species}종에 속하며, {self.birth}년에 태어났고 {self.age}살입니다.\")\n",
    "        \n",
    "    \n",
    "class Person(Animal):\n",
    "    def __init__(self, species, birth, age, job):\n",
    "        super().__init__(species, birth, age)\n",
    "        self.job = job\n",
    "        \n",
    "    def info(self):\n",
    "        print(f\"{self.species}종에 속하며, {self.birth}년에 태어났고 {self.age}살입니다. 직업은 {self.job}입니다.\")\n",
    "        \n",
    "tiger = Animal('호랑이', '2010', '8')\n",
    "young = Person('인간', '1992', '27', '학생')\n",
    "\n",
    "tiger.info()\n",
    "young.info()"
   ]
  },
  {
   "cell_type": "markdown",
   "metadata": {},
   "source": [
    "# 07homework 2-5"
   ]
  },
  {
   "cell_type": "code",
   "execution_count": 231,
   "metadata": {},
   "outputs": [
    {
     "data": {
      "text/plain": [
       "True"
      ]
     },
     "execution_count": 231,
     "metadata": {},
     "output_type": "execute_result"
    }
   ],
   "source": [
    "class Person:\n",
    "    name = \"john\"\n",
    "    \n",
    "class Student(Person):\n",
    "    student_id = \"12341234\"\n",
    "    \n",
    "s1 = Student()\n",
    "\n",
    "isinstance(s1, Person)"
   ]
  }
 ],
 "metadata": {
  "kernelspec": {
   "display_name": "Python 3",
   "language": "python",
   "name": "python3"
  },
  "language_info": {
   "codemirror_mode": {
    "name": "ipython",
    "version": 3
   },
   "file_extension": ".py",
   "mimetype": "text/x-python",
   "name": "python",
   "nbconvert_exporter": "python",
   "pygments_lexer": "ipython3",
   "version": "3.6.7"
  },
  "latex_envs": {
   "LaTeX_envs_menu_present": true,
   "autoclose": false,
   "autocomplete": true,
   "bibliofile": "biblio.bib",
   "cite_by": "apalike",
   "current_citInitial": 1,
   "eqLabelWithNumbers": true,
   "eqNumInitial": 1,
   "hotkeys": {
    "equation": "Ctrl-E",
    "itemize": "Ctrl-I"
   },
   "labels_anchors": false,
   "latex_user_defs": false,
   "report_style_numbering": false,
   "user_envs_cfg": false
  },
  "toc": {
   "base_numbering": 1,
   "nav_menu": {},
   "number_sections": true,
   "sideBar": true,
   "skip_h1_title": false,
   "title_cell": "Table of Contents",
   "title_sidebar": "Contents",
   "toc_cell": false,
   "toc_position": {},
   "toc_section_display": true,
   "toc_window_display": false
  }
 },
 "nbformat": 4,
 "nbformat_minor": 2
}
