{
 "cells": [
  {
   "cell_type": "markdown",
   "metadata": {},
   "source": [
    "## Intro&Control_of_flow-문제3\n"
   ]
  },
  {
   "cell_type": "markdown",
   "metadata": {},
   "source": [
    "### 문제1\n",
    "\n",
    ">다음 소스 코드를 완성하여 1부터 100까지의 숫자를 출력하면서 2의 배수일 때는 'Fizz', 11의 배수일 때는 'Buzz', 2와 11의 공배수일 때는 'FizzBuzz'가 출력되게 만드세요."
   ]
  },
  {
   "cell_type": "code",
   "execution_count": 2,
   "metadata": {},
   "outputs": [
    {
     "name": "stdout",
     "output_type": "stream",
     "text": [
      "1\n",
      "Fizz\n",
      "3\n",
      "Fizz\n",
      "5\n",
      "Fizz\n",
      "7\n",
      "Fizz\n",
      "9\n",
      "Fizz\n",
      "Buzz\n",
      "Fizz\n",
      "13\n",
      "Fizz\n",
      "15\n",
      "Fizz\n",
      "17\n",
      "Fizz\n",
      "19\n",
      "Fizz\n",
      "21\n",
      "FizzBuzz\n",
      "23\n",
      "Fizz\n",
      "25\n",
      "Fizz\n",
      "27\n",
      "Fizz\n",
      "29\n",
      "Fizz\n",
      "31\n",
      "Fizz\n",
      "Buzz\n",
      "Fizz\n",
      "35\n",
      "Fizz\n",
      "37\n",
      "Fizz\n",
      "39\n",
      "Fizz\n",
      "41\n",
      "Fizz\n",
      "43\n",
      "FizzBuzz\n",
      "45\n",
      "Fizz\n",
      "47\n",
      "Fizz\n",
      "49\n",
      "Fizz\n",
      "51\n",
      "Fizz\n",
      "53\n",
      "Fizz\n",
      "Buzz\n",
      "Fizz\n",
      "57\n",
      "Fizz\n",
      "59\n",
      "Fizz\n",
      "61\n",
      "Fizz\n",
      "63\n",
      "Fizz\n",
      "65\n",
      "FizzBuzz\n",
      "67\n",
      "Fizz\n",
      "69\n",
      "Fizz\n",
      "71\n",
      "Fizz\n",
      "73\n",
      "Fizz\n",
      "75\n",
      "Fizz\n",
      "Buzz\n",
      "Fizz\n",
      "79\n",
      "Fizz\n",
      "81\n",
      "Fizz\n",
      "83\n",
      "Fizz\n",
      "85\n",
      "Fizz\n",
      "87\n",
      "FizzBuzz\n",
      "89\n",
      "Fizz\n",
      "91\n",
      "Fizz\n",
      "93\n",
      "Fizz\n",
      "95\n",
      "Fizz\n",
      "97\n",
      "Fizz\n",
      "Buzz\n",
      "Fizz\n"
     ]
    }
   ],
   "source": [
    "#여기에 코드를 작성하세요.\n",
    "for num in range(1, 101):\n",
    "    if num % 22 == 0:\n",
    "        print('FizzBuzz')\n",
    "    elif num % 2 == 0:\n",
    "        print('Fizz')\n",
    "    elif num % 11 == 0:\n",
    "        print('Buzz')\n",
    "    else:\n",
    "        print(num)"
   ]
  },
  {
   "cell_type": "markdown",
   "metadata": {},
   "source": [
    "### 문제2\n",
    "\n",
    ">사용자로부터 세 개의 숫자를 입력 받은 후 가장 큰 숫자를 출력하세요."
   ]
  },
  {
   "cell_type": "code",
   "execution_count": 21,
   "metadata": {},
   "outputs": [
    {
     "name": "stdout",
     "output_type": "stream",
     "text": [
      "49 19 10\n",
      "[49, 19, 10]\n",
      "49\n"
     ]
    }
   ],
   "source": [
    "#여기에 코드를 작성하세요.\n",
    "num_list = [int(x) for x in input().split()]\n",
    "print(num_list)\n",
    "print(max(num_list))"
   ]
  },
  {
   "cell_type": "code",
   "execution_count": 24,
   "metadata": {},
   "outputs": [
    {
     "name": "stdout",
     "output_type": "stream",
     "text": [
      "input number1: 2\n",
      "input number2: 4\n",
      "input number3: 5\n",
      "5\n"
     ]
    }
   ],
   "source": [
    "# 강사님 코드\n",
    "num1 = int(input('input number1: '))\n",
    "num2 = int(input('input number2: '))\n",
    "num3 = int(input('input number3: '))\n",
    "\n",
    "if num > num2:\n",
    "    max_num = num1\n",
    "else:\n",
    "    max_num = num2\n",
    "\n",
    "if num3 > max_num:\n",
    "    max_num = num3\n",
    "\n",
    "print(max_num)"
   ]
  },
  {
   "cell_type": "markdown",
   "metadata": {},
   "source": [
    "### 문제3\n",
    "\n",
    "> 다음은 학생들의 혈액형(A, B, AB, O)에 대한 데이터입니다. 각 혈액형 별 학생수의 합계를 구하세요."
   ]
  },
  {
   "cell_type": "code",
   "execution_count": 6,
   "metadata": {},
   "outputs": [],
   "source": [
    "blood_types = ['A', 'B', 'A', 'O', 'AB', 'AB', 'O', 'A', 'B', 'O', 'B', 'AB']"
   ]
  },
  {
   "cell_type": "code",
   "execution_count": 25,
   "metadata": {},
   "outputs": [
    {
     "name": "stdout",
     "output_type": "stream",
     "text": [
      "B형: 3명\n",
      "B형: 3명\n",
      "B형: 3명\n",
      "AB형: 3명\n",
      "AB형: 3명\n",
      "AB형: 3명\n",
      "A형: 3명\n",
      "A형: 3명\n",
      "A형: 3명\n",
      "O형: 3명\n",
      "O형: 3명\n",
      "O형: 3명\n"
     ]
    }
   ],
   "source": [
    "#여기에 코드를 작성하세요.\n",
    "set_blood = list(set(blood_types))\n",
    "for blood in set_blood:\n",
    "    print(\"{}형: {}명\".format(blood, blood_types.count(blood)))\n",
    "    print(f\"{blood}형: {blood_types.count(blood)}명\")\n",
    "    print(\"%s형: %d명\" % (blood, blood_types.count(blood)))"
   ]
  },
  {
   "cell_type": "code",
   "execution_count": 27,
   "metadata": {},
   "outputs": [
    {
     "name": "stdout",
     "output_type": "stream",
     "text": [
      "{'A': 3, 'B': 3, 'O': 3, 'AB': 3}\n"
     ]
    }
   ],
   "source": [
    "blood_types = ['A', 'B', 'A', 'O', 'AB', 'AB', 'O', 'A', 'B', 'O', 'B', 'AB']\n",
    "result = {}\n",
    "for blood_type in blood_types:\n",
    "    if blood_type in result:\n",
    "        result[blood_type] += 1\n",
    "    else:\n",
    "        result[blood_type] = 1\n",
    "        \n",
    "print(result)"
   ]
  },
  {
   "cell_type": "markdown",
   "metadata": {},
   "source": [
    "### 문제4\n",
    "\n",
    ">다음 리스트의 요소값 중에서 중복되는 값만 뽑아서 새로운 리스트로 옮기고 요소의 개수를 출력하세요. \n",
    "\n",
    ">some_lists = ['a', 'b', 'c', 'b', 'd', 'm', 'n', 'n']"
   ]
  },
  {
   "cell_type": "code",
   "execution_count": 15,
   "metadata": {},
   "outputs": [
    {
     "name": "stdout",
     "output_type": "stream",
     "text": [
      "b: 2개\n",
      "b: 2개\n",
      "b: 2개\n",
      "n: 2개\n",
      "n: 2개\n",
      "n: 2개\n",
      "['b', 'n']\n"
     ]
    }
   ],
   "source": [
    "#여기에 코드를 작성하세요.\n",
    "some_lists = ['a', 'b', 'c', 'b', 'd', 'm', 'n', 'n']\n",
    "new_list = []\n",
    "some_set = list(set(some_lists))\n",
    "for some in some_set:\n",
    "    some_count = some_lists.count(some)\n",
    "    if some_count >= 2:\n",
    "        new_list.append(some)\n",
    "        print(\"{}: {}개\".format(some, some_count))\n",
    "        print(f'{some}: {some_count}개')\n",
    "        print(\"%s: %d개\" % (some, some_count))\n",
    "print(new_list)"
   ]
  },
  {
   "cell_type": "code",
   "execution_count": 31,
   "metadata": {},
   "outputs": [
    {
     "name": "stdout",
     "output_type": "stream",
     "text": [
      "{'a': 1, 'b': 2, 'c': 1, 'd': 1, 'm': 1, 'n': 2}\n",
      "b: 2개\n",
      "n: 2개\n",
      "['b', 'n']\n"
     ]
    }
   ],
   "source": [
    "some_lists = ['a', 'b', 'c', 'b', 'd', 'm', 'n', 'n']\n",
    "new_dict = {}\n",
    "new_list = []\n",
    "for some in some_lists:\n",
    "    if some in new_dict:\n",
    "        new_dict[some] += 1\n",
    "    else:\n",
    "        new_dict[some] = 1\n",
    "print(new_dict)\n",
    "for letter, count in new_dict.items():\n",
    "    if count > 1:\n",
    "        new_list.append(letter)\n",
    "        print(\"{}: {}개\".format(letter, count))\n",
    "        \n",
    "print(new_list)"
   ]
  },
  {
   "cell_type": "code",
   "execution_count": 33,
   "metadata": {},
   "outputs": [
    {
     "name": "stdout",
     "output_type": "stream",
     "text": [
      "['a', 'b', 'c', 'd', 'm', 'n']\n"
     ]
    }
   ],
   "source": [
    "# 강사님 코드 - 중복되는 값을 뺀 리스트를 구하기\n",
    "some_lists = ['a', 'b', 'c', 'b', 'd', 'm', 'n', 'n']\n",
    "new_list = []\n",
    "\n",
    "for some_list in some_lists:\n",
    "    if some_list not in new_list:\n",
    "        new_list.append(some_list)\n",
    "print(new_list)"
   ]
  },
  {
   "cell_type": "markdown",
   "metadata": {},
   "source": [
    "### 문제5\n",
    "\n",
    ">표준 입력으로 국어, 영어, 수학, 과학 점수가 입력됩니다. 네 과목의 평균 점수가 80점 이상일 때 합격이라고 정했습니다. 평균 점수에 따라 '합격', '불합격'을 출력하는 프로그램을 만드세요. \n",
    "단, 점수는 0점부터 100점까지만 입력받을 수 있으며 범위를 벗어났다면 '잘못된 점수'를 출력하고 합격, 불합격 여부는 출력하지 않아야 합니다. "
   ]
  },
  {
   "cell_type": "code",
   "execution_count": 20,
   "metadata": {},
   "outputs": [
    {
     "name": "stdout",
     "output_type": "stream",
     "text": [
      "국어, 영어, 수학, 과학 순으로 점수를 입력하세요.101 49 10 47\n",
      "잘못된 점수\n"
     ]
    }
   ],
   "source": [
    "#여기에 코드를 작성하세요.\n",
    "point_list = list(map(int, input('국어, 영어, 수학, 과학 순으로 점수를 입력하세요.').split()))\n",
    "if min(point_list) < 0 or max(point_list) > 100:\n",
    "    print('잘못된 점수')\n",
    "else:\n",
    "    if sum(point_list)/len(point_list) >= 80:\n",
    "        print('합격')\n",
    "    else:\n",
    "        print('불합격')"
   ]
  },
  {
   "cell_type": "code",
   "execution_count": null,
   "metadata": {},
   "outputs": [],
   "source": []
  }
 ],
 "metadata": {
  "kernelspec": {
   "display_name": "Python 3",
   "language": "python",
   "name": "python3"
  },
  "language_info": {
   "codemirror_mode": {
    "name": "ipython",
    "version": 3
   },
   "file_extension": ".py",
   "mimetype": "text/x-python",
   "name": "python",
   "nbconvert_exporter": "python",
   "pygments_lexer": "ipython3",
   "version": "3.6.7"
  }
 },
 "nbformat": 4,
 "nbformat_minor": 2
}
